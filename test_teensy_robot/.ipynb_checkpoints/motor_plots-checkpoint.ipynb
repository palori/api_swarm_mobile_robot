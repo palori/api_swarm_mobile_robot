{
 "cells": [
  {
   "cell_type": "markdown",
   "metadata": {},
   "source": [
    "# Motor data analysis"
   ]
  },
  {
   "cell_type": "code",
   "execution_count": null,
   "metadata": {},
   "outputs": [],
   "source": [
    "# Run to install PySerial library\n",
    "#!conda install -c conda-forge pyserial"
   ]
  },
  {
   "cell_type": "code",
   "execution_count": null,
   "metadata": {},
   "outputs": [],
   "source": [
    "# Read the serial port and save to a csv (not working properly)\n",
    "\"\"\"\n",
    "import pandas as pd\n",
    "import serial, time\n",
    "\n",
    "file_name = 'motors_openLoop_noCharge1.csv'\n",
    "ser=serial.Serial(\"/dev/ttyACM0\",9600)\n",
    "\n",
    "data = {'Time':list(),\n",
    "        'Vel1':list(),'Vel2':list(),\n",
    "        'SP1':list(),'SP2':list(),\n",
    "        'Out1':list(),'Out2':list()}\n",
    "\n",
    "while True:\n",
    "    time.sleep(0.1)\n",
    "    print(\"Waiting for messages from arduino..\");\n",
    "    read_ser=ser.readline().decode(\"utf-8\")\n",
    "    print(read_ser)\n",
    "    \n",
    "    read_list = read_ser.split(\",\")\n",
    "    if len(read_list)==1:\n",
    "        if(read_ser == \"123456\"):\n",
    "            ser.close()\n",
    "            new_data = pd.DataFrame(data=data, index='Time')\n",
    "            new_data.to_csv(path_or_buf=file_name)\n",
    "    else:\n",
    "        i = -1\n",
    "        for k in data.keys():\n",
    "            i+=1\n",
    "            data[k].append(read_list[i])\n",
    "\"\"\""
   ]
  },
  {
   "cell_type": "code",
   "execution_count": null,
   "metadata": {},
   "outputs": [],
   "source": [
    "import pandas as pd\n",
    "import matplotlib.pyplot as plt\n",
    "%matplotlib notebook\n",
    "from IPython.display import display\n",
    "pd.options.display.max_columns = 10#None\n",
    "pd.options.display.max_rows = 10\n",
    "import os"
   ]
  },
  {
   "cell_type": "code",
   "execution_count": null,
   "metadata": {},
   "outputs": [],
   "source": [
    "p = [0,5,8,10,12,15,20,30,40,50] # [%]\n",
    "v = [0,5,9,11.5,15,19.5,26.5,41.5,57,72] # [rad/s]\n",
    "plt.plot(p,v)"
   ]
  },
  {
   "cell_type": "markdown",
   "metadata": {},
   "source": [
    "### Open loop"
   ]
  },
  {
   "cell_type": "code",
   "execution_count": null,
   "metadata": {},
   "outputs": [],
   "source": [
    "file_name = 'motors_openLoop_noCharge_181024_3.csv'\n",
    "\n",
    "raw_data = pd.read_csv(file_name)\n",
    "raw_data['Time'] = pd.to_datetime(raw_data['Time'],unit='s')\n",
    "raw_data.set_index('Time',inplace=True)\n",
    "raw_data.head()"
   ]
  },
  {
   "cell_type": "code",
   "execution_count": null,
   "metadata": {},
   "outputs": [],
   "source": [
    "nans = [raw_data[k].isna().sum() for k in raw_data.keys()]\n",
    "print(nans) # No NaN values, that is good.\n",
    "print(len(raw_data))"
   ]
  },
  {
   "cell_type": "code",
   "execution_count": null,
   "metadata": {},
   "outputs": [],
   "source": [
    "%matplotlib notebook\n",
    "raw_data.plot()"
   ]
  },
  {
   "cell_type": "code",
   "execution_count": null,
   "metadata": {},
   "outputs": [],
   "source": [
    "# find the data of the big step (from 1.2 to 1.9)\n",
    "print(\"\\nUsed to find the data\")\n",
    "print(raw_data[4600:4730]) # used to find the data\n",
    "\n",
    "print('\\nFirst step steady state, median filter')\n",
    "data1 = raw_data[4600:4730].median()\n",
    "print(data1)\n",
    "u1 = data1.SP1\n",
    "print('\\nU1',u1)\n",
    "print('\\nSecond step steady state, median filter')\n",
    "data2 = raw_data[5000:5200].median()\n",
    "print(data2)\n",
    "\n",
    "# TF of motors\n",
    "print(\"\\nExtractint the 1st order trandfer function of the motors\")\n",
    "motor1 = {'k':0, 'tau':1, 'ts':0} # initialization\n",
    "motor2 = motor1\n",
    "\n",
    "motor1['k'] = (data2.Vel1- data1.Vel1)/(data2.SP1 - data1.SP1)\n",
    "motor2['k'] = (data2.Vel2- data1.Vel2)/(data2.SP2 - data1.SP2)\n",
    "\n",
    "y_tau_1 = data1.Vel1 + 0.632*(data2.Vel1- data1.Vel1)\n",
    "y_tau_2 = data1.Vel2 + 0.632*(data2.Vel2- data1.Vel2)\n",
    "print('\\ny_tau_1', y_tau_1)\n",
    "print('\\ny_tau_2', y_tau_2)\n",
    "\n",
    "print('\\nFind initial time')\n",
    "\n",
    "def gt_index(data,\n",
    "             param=['Vel1', 'Vel2'],\n",
    "             dr=[4730,5000], # data range\n",
    "             th=[1.35,1.35]): #threshold\n",
    "    t0 = {}\n",
    "    t0_return = [0,0]\n",
    "    t0['0'] = data[param[0]][dr[0]:dr[1]].gt(th[0]) # values grater than a threshold\n",
    "    t0['1'] = data[param[1]][dr[0]:dr[1]].gt(th[1]) # values grater than a threshold\n",
    "    found = [False, False]\n",
    "    for x in range(0,(dr[1]-dr[0])):\n",
    "        for i in range(2):\n",
    "            if t0[str(i)][x]==True and not(found[i]):\n",
    "                t0_return[i] = dr[0]+x\n",
    "                found[i] = True\n",
    "        if found[0]*found[1]:\n",
    "            break\n",
    "    return t0_return\n",
    "t0 = gt_index(raw_data,param=['Vel1', 'Vel2'],dr=[4730,5000],th=[1.35,1.35])\n",
    "t1 = gt_index(raw_data,param=['Vel1', 'Vel2'],dr=[4730,5000],th=[y_tau_1,y_tau_2])\n",
    "print('\\nt0 = ', t0)\n",
    "print('\\nt1 = ', t1)\n",
    "\n",
    "Ts = 0.01 # Sampling time [s]\n",
    "motor1['tau'] = (t1[0] - t0[0])*Ts\n",
    "motor2['tau'] = (t1[1] - t0[1])*Ts\n",
    "\n",
    "# Cannot compute the delay because there are some computations\n",
    "# in the Arduino script that delay the communication.\n",
    "# At least it will be 1 time the Ts\n",
    "motor1['ts'] = 2*Ts\n",
    "motor1['ts'] = 2*Ts\n",
    "\n",
    "print('\\nMotor1 = ', motor1)\n",
    "print('\\nMotor2 = ', motor2)"
   ]
  },
  {
   "cell_type": "code",
   "execution_count": null,
   "metadata": {},
   "outputs": [],
   "source": []
  },
  {
   "cell_type": "code",
   "execution_count": null,
   "metadata": {},
   "outputs": [],
   "source": []
  }
 ],
 "metadata": {
  "kernelspec": {
   "display_name": "Python 3",
   "language": "python",
   "name": "python3"
  },
  "language_info": {
   "codemirror_mode": {
    "name": "ipython",
    "version": 3
   },
   "file_extension": ".py",
   "mimetype": "text/x-python",
   "name": "python",
   "nbconvert_exporter": "python",
   "pygments_lexer": "ipython3",
   "version": "3.6.5"
  }
 },
 "nbformat": 4,
 "nbformat_minor": 2
}
